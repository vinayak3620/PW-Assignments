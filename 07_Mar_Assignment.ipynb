{
  "nbformat": 4,
  "nbformat_minor": 0,
  "metadata": {
    "colab": {
      "provenance": []
    },
    "kernelspec": {
      "name": "python3",
      "display_name": "Python 3"
    },
    "language_info": {
      "name": "python"
    }
  },
  "cells": [
    {
      "cell_type": "markdown",
      "source": [
        "**Q1**\n",
        "\n",
        "Mean, Median, Mode"
      ],
      "metadata": {
        "id": "-MzCivr8Bqmr"
      }
    },
    {
      "cell_type": "markdown",
      "source": [
        "**Q2**\n",
        "\n",
        "Mean: Average of the datapoints.\n",
        "\n",
        "Median : Helps us to find out the dot centre value of the dataset.\n",
        "\n",
        "Mode : Helps us to find out the most frequently occuring element in the dataset."
      ],
      "metadata": {
        "id": "3hraUDnSB2jr"
      }
    },
    {
      "cell_type": "markdown",
      "source": [
        "**Q3**"
      ],
      "metadata": {
        "id": "DUkCPqLoCwBw"
      }
    },
    {
      "cell_type": "code",
      "source": [
        "import numpy as np\n",
        "from scipy import stats\n",
        "\n",
        "l = [178,177,176,177,178.2,178,175,179,180,175,178.9,176.2,177,172.5,178,176.5]\n",
        "\n",
        "print(\"Mean : \",np.mean(l))\n",
        "print(\"Median : \",np.median(l))\n",
        "print(\"Mode : \",stats.mode(l))"
      ],
      "metadata": {
        "colab": {
          "base_uri": "https://localhost:8080/"
        },
        "id": "MVTl0W2pB2Yu",
        "outputId": "4dd4046b-9ea1-4841-ab5d-d646b65c6d57"
      },
      "execution_count": 3,
      "outputs": [
        {
          "output_type": "stream",
          "name": "stdout",
          "text": [
            "Mean :  177.01875\n",
            "Median :  177.0\n",
            "Mode :  ModeResult(mode=177.0, count=3)\n"
          ]
        }
      ]
    },
    {
      "cell_type": "markdown",
      "source": [
        "**Q4**"
      ],
      "metadata": {
        "id": "nGEWlhb2C5to"
      }
    },
    {
      "cell_type": "code",
      "execution_count": 4,
      "metadata": {
        "colab": {
          "base_uri": "https://localhost:8080/"
        },
        "id": "xH-XAL3_BkBR",
        "outputId": "65bf8e85-bff1-407c-d97a-7a5b99b14019"
      },
      "outputs": [
        {
          "output_type": "stream",
          "name": "stdout",
          "text": [
            "Std :  1.7885814036548633\n"
          ]
        }
      ],
      "source": [
        "l2 = [178,177,176,177,178.2,178,175,179,180,175,178.9,176.2,177,172.5,178,176.5]\n",
        "\n",
        "print(\"Std : \",np.std(l2))"
      ]
    },
    {
      "cell_type": "markdown",
      "source": [
        "**Q7**\n",
        "\n",
        "A = (2,3,4,5,6,7) & B = (0,2,6,8,10)\n",
        "\n",
        "A intersection B = {2,6}\n",
        "\n",
        "A Union B = {0,2,3,4,5,6,7,8,10}"
      ],
      "metadata": {
        "id": "gELg9PqnDCCP"
      }
    },
    {
      "cell_type": "markdown",
      "source": [
        "**Q8**\n",
        "\n",
        "Skewness in the data means that the distribution of data is not symmetrical, data is distributed more towards left or right side of the range based on the skewness."
      ],
      "metadata": {
        "id": "TW1aG56MDhQg"
      }
    },
    {
      "cell_type": "markdown",
      "source": [
        "**Q9**\n",
        "\n",
        "If the data is right skewed then Mean > Median."
      ],
      "metadata": {
        "id": "yrN4GtllD852"
      }
    },
    {
      "cell_type": "markdown",
      "source": [
        "**Q10**\n",
        "\n",
        "Cov and Corr are used to find out the relation between two feature as if one feature changes then what is the effect on other feature.\n",
        "\n",
        "Cov : Only gives the direction of change.\n",
        "\n",
        "Corr : Along with the direction, it also gives the strength of relation between two features."
      ],
      "metadata": {
        "id": "_j6tunrzEIwf"
      }
    },
    {
      "cell_type": "markdown",
      "source": [
        "**Q11**\n",
        "\n",
        "Sample Mean = SUM(Values) / n"
      ],
      "metadata": {
        "id": "ih-V-VtoEpTI"
      }
    },
    {
      "cell_type": "markdown",
      "source": [
        "**Q12**\n",
        "\n",
        "For normal distribution :\n",
        "\n",
        "Mean = Median = Mode"
      ],
      "metadata": {
        "id": "i0se56zlExbm"
      }
    },
    {
      "cell_type": "markdown",
      "source": [
        "**Q13**\n",
        "\n",
        "Same as Q10"
      ],
      "metadata": {
        "id": "DnE2uHZNE8qN"
      }
    },
    {
      "cell_type": "markdown",
      "source": [
        "**Q12**\n",
        "\n",
        "Ouliers majorly impact mean and Variance.\n",
        "\n",
        "Mild impact on Median and Standard Deviation\n",
        "\n",
        "No impact on Mode."
      ],
      "metadata": {
        "id": "Km4Ew_ToE_s1"
      }
    }
  ]
}