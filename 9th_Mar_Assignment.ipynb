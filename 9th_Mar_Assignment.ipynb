{
  "nbformat": 4,
  "nbformat_minor": 0,
  "metadata": {
    "colab": {
      "provenance": []
    },
    "kernelspec": {
      "name": "python3",
      "display_name": "Python 3"
    },
    "language_info": {
      "name": "python"
    }
  },
  "cells": [
    {
      "cell_type": "markdown",
      "source": [
        "**Q1**\n",
        "\n",
        "PDF and PMF both are the probability distribution function which tells about the proabability of an event\n",
        "\n",
        "PDF : Used for continous data.\n",
        "\n",
        "Example : Data of weights of the students\n",
        "\n",
        "\n",
        "PMF : Used for discrete data\n",
        "\n",
        "Example : Tossing a coin, rolling a dice\n"
      ],
      "metadata": {
        "id": "sq5_ncBbGAte"
      }
    },
    {
      "cell_type": "markdown",
      "source": [
        "**Q2**\n",
        "\n",
        "CDF is cumulative density function which is plotted for continious data.\n",
        "\n",
        "CDF tells about the probability of event where random variable will be less thaan and equal to a particular value."
      ],
      "metadata": {
        "id": "lG58I7qAGgtM"
      }
    },
    {
      "cell_type": "markdown",
      "source": [
        "**Q3**\n",
        "\n",
        "Normal distrubution is present in most of the naturally occuuring data.It has a bell shaped curve.\n",
        "\n",
        "It has 2 parameter:\n",
        "\n",
        "1. Mean : It mean is changed then the entire graph shift towards left or right depending on the change in mean.\n",
        "\n",
        "2. Std Deviation : If Std Deviation inc then Graph Widens, else when std deviation is dec then Grpah narrows."
      ],
      "metadata": {
        "id": "oDnR6MoDHOKO"
      }
    },
    {
      "cell_type": "markdown",
      "source": [
        "**Q4**\n",
        "\n",
        "Normal distbribution is bell shaped symmetrical distribution, so it is easy to understand and interpret. Can be easily used in wide varities of examples.\n"
      ],
      "metadata": {
        "id": "nWpWVWgEIDtP"
      }
    },
    {
      "cell_type": "markdown",
      "source": [
        "**Q5**\n",
        "\n",
        "Bernoulli distribution is formed when an experiment has binary outcomes and experiemnt is done only 1 time.\n",
        "\n",
        "Example : Tossing a coin 1 time.\n",
        "\n",
        "However, Binomial is bernoulli experiment done n times."
      ],
      "metadata": {
        "id": "IJPZ3V6VIhz3"
      }
    }
  ]
}