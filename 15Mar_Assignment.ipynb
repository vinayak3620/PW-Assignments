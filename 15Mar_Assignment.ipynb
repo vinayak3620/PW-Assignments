{
 "cells": [
  {
   "cell_type": "markdown",
   "id": "8ce6aed1",
   "metadata": {},
   "source": [
    "Q1- \n",
    "\n",
    "1. Artificial Intelligence - These are the smart applications who can perform their own task with any human intervention\n",
    "                               Example : Alexa\n",
    "2. Machine Learning - It is the subset of AI where we use statistical tools on the given dataset to analyse, visulize and traing model and algorithms.\n",
    "                    Example : Recommendation Systems (Nextflix to recommend movies).\n",
    "3. Deep Learning - It is the subset of ML, where we try to mimic the human brain.\n",
    "                Examples : image recoignition\n",
    "      "
   ]
  },
  {
   "cell_type": "markdown",
   "id": "7b4c424b",
   "metadata": {},
   "source": [
    "Q2. \n",
    "\n",
    "Supervised learning is type of ML which is used to train model for those datasets where the ouput is known (labeled Data)\n",
    "\n",
    "Example : Smartphone specs (ram, processor, storage) to find out the price."
   ]
  },
  {
   "cell_type": "markdown",
   "id": "91f00fe9",
   "metadata": {},
   "source": [
    "Q3. \n",
    "\n",
    "Unsupervised learning is type of ML which is used to train model for those datasets where the ouput is not known.\n",
    "So clustering of data is done (similar dataset are put together is one group)\n",
    "\n",
    "Example : Salary vs Expenditure of the people (will form cluster based on data and target the most useful cluster)"
   ]
  },
  {
   "cell_type": "markdown",
   "id": "e1e405ac",
   "metadata": {},
   "source": [
    "Q4.\n",
    "\n",
    "AI - These are the smart applications who can perform their own task with any human intervention. \n",
    "\n",
    "ML - It is the subset of AI where we use statistical tools on the given dataset to analyse, visulize and traing model and algorithms.\n",
    "\n",
    "DL - It is the subset of ML, where we try to mimic the human brain.\n",
    "\n",
    "DS - Mixture of AI,ML,DL have knoweledge of all."
   ]
  },
  {
   "cell_type": "markdown",
   "id": "9e07a66e",
   "metadata": {},
   "source": [
    "Q5. Supervised Learning use the labeled dataset and give a particular output.\n",
    "\n",
    "    Unsupervised do not have labeled dataset so it divides the dataset into clusters.\n",
    "    \n",
    "    Semi-Supervised uses small amount of labeled dataset and mostly unlabeled datset."
   ]
  },
  {
   "cell_type": "markdown",
   "id": "cc527c58",
   "metadata": {},
   "source": [
    "Q6.\n",
    "    Dataset is divideed into three parts : train, test, validation.\n",
    "    \n",
    "    Train : Part of dataset that is used to train the model. (Important datset so that model can learn and adapt itself).\n",
    "    \n",
    "    Validation : part of datset which is used to do hyper tuning of the model. (Important for increase the accuracy of the model                  or to make the model better).\n",
    "    \n",
    "    Test : Last part of dataset which is used to test the trained model on unseen dataset to test the model's performance"
   ]
  },
  {
   "cell_type": "markdown",
   "id": "65d082ae",
   "metadata": {},
   "source": [
    "Q7. Unsupervised dataset can be used in anaomly detection as it form cluster from the given dataset, so the datapoints which are very different from the majority of the data will form cluster with more distance from the majority of the clusters and will have less datapoints as compared to the most of the clusters."
   ]
  },
  {
   "cell_type": "markdown",
   "id": "bd25dbaf",
   "metadata": {},
   "source": [
    "Q8. List of Supervised Model:\n",
    "    1. Decision Tree\n",
    "    2. random Forest\n",
    "    3. Linear Regression\n",
    "    4. Logistic Regression\n",
    "\n",
    "    List of Unsupervised Model:\n",
    "        1. Clustering"
   ]
  }
 ],
 "metadata": {
  "kernelspec": {
   "display_name": "Python 3 (ipykernel)",
   "language": "python",
   "name": "python3"
  },
  "language_info": {
   "codemirror_mode": {
    "name": "ipython",
    "version": 3
   },
   "file_extension": ".py",
   "mimetype": "text/x-python",
   "name": "python",
   "nbconvert_exporter": "python",
   "pygments_lexer": "ipython3",
   "version": "3.9.7"
  }
 },
 "nbformat": 4,
 "nbformat_minor": 5
}
