{
 "cells": [
  {
   "cell_type": "markdown",
   "id": "d313dae0",
   "metadata": {},
   "source": [
    "Q1. \n",
    "Min-Max Scaling is feature scaling technique that is used to scale the datapoints in the databse between 0 and 1.\n",
    "\n",
    "    It is import using \"from sklearn.preprocessing import MinMaxScaler\".\n",
    "\n",
    "Example :\n",
    "    A dataset has only one columns with three dataset (1,2,3) then using mixmaxscaler it will be scaled to (0,0.5,1)"
   ]
  },
  {
   "cell_type": "markdown",
   "id": "43a9d776",
   "metadata": {},
   "source": [
    "Q2. \n",
    "\n",
    "    Unit vector is used to scale down the datset so that the magnitude become 1.\n",
    "    \n",
    "    in mix-max sclaing we bring the data into the particular range 0f (0,1) where one value will be definetly 0 and one will be definetly 1  but in unit vector no such range is defined."
   ]
  },
  {
   "cell_type": "markdown",
   "id": "a46620be",
   "metadata": {},
   "source": [
    "Q3.\n",
    "\n",
    "    PCA is the feature selection method which helps in the dimentionality reduction.\n",
    "    \n",
    "    the projection of the datapoints is taken onto the PC line which leave us with reduction in one dimewwnsion."
   ]
  },
  {
   "cell_type": "markdown",
   "id": "c60ddcb9",
   "metadata": {},
   "source": [
    "Q4.\n",
    "\n",
    "    PCS helpps to identify the most import features of the dataset with the help of high dimenionality."
   ]
  },
  {
   "cell_type": "markdown",
   "id": "84aae395",
   "metadata": {},
   "source": [
    "Q7"
   ]
  },
  {
   "cell_type": "code",
   "execution_count": 1,
   "id": "2efc1043",
   "metadata": {},
   "outputs": [],
   "source": [
    "import pandas as pd    "
   ]
  },
  {
   "cell_type": "code",
   "execution_count": 4,
   "id": "639f76f6",
   "metadata": {},
   "outputs": [],
   "source": [
    "df=pd.DataFrame([1,5,10,15,20],columns=['C1'])"
   ]
  },
  {
   "cell_type": "code",
   "execution_count": 5,
   "id": "f8928b84",
   "metadata": {},
   "outputs": [
    {
     "data": {
      "text/html": [
       "<div>\n",
       "<style scoped>\n",
       "    .dataframe tbody tr th:only-of-type {\n",
       "        vertical-align: middle;\n",
       "    }\n",
       "\n",
       "    .dataframe tbody tr th {\n",
       "        vertical-align: top;\n",
       "    }\n",
       "\n",
       "    .dataframe thead th {\n",
       "        text-align: right;\n",
       "    }\n",
       "</style>\n",
       "<table border=\"1\" class=\"dataframe\">\n",
       "  <thead>\n",
       "    <tr style=\"text-align: right;\">\n",
       "      <th></th>\n",
       "      <th>C1</th>\n",
       "    </tr>\n",
       "  </thead>\n",
       "  <tbody>\n",
       "    <tr>\n",
       "      <th>0</th>\n",
       "      <td>1</td>\n",
       "    </tr>\n",
       "    <tr>\n",
       "      <th>1</th>\n",
       "      <td>5</td>\n",
       "    </tr>\n",
       "    <tr>\n",
       "      <th>2</th>\n",
       "      <td>10</td>\n",
       "    </tr>\n",
       "    <tr>\n",
       "      <th>3</th>\n",
       "      <td>15</td>\n",
       "    </tr>\n",
       "    <tr>\n",
       "      <th>4</th>\n",
       "      <td>20</td>\n",
       "    </tr>\n",
       "  </tbody>\n",
       "</table>\n",
       "</div>"
      ],
      "text/plain": [
       "   C1\n",
       "0   1\n",
       "1   5\n",
       "2  10\n",
       "3  15\n",
       "4  20"
      ]
     },
     "execution_count": 5,
     "metadata": {},
     "output_type": "execute_result"
    }
   ],
   "source": [
    "df.head()"
   ]
  },
  {
   "cell_type": "code",
   "execution_count": 6,
   "id": "83b09fbe",
   "metadata": {},
   "outputs": [],
   "source": [
    "from sklearn.preprocessing import MinMaxScaler"
   ]
  },
  {
   "cell_type": "code",
   "execution_count": 7,
   "id": "eda75c8f",
   "metadata": {},
   "outputs": [],
   "source": [
    "Scaler= MinMaxScaler(feature_range=(-1,1))"
   ]
  },
  {
   "cell_type": "code",
   "execution_count": 8,
   "id": "b3fedf74",
   "metadata": {},
   "outputs": [
    {
     "data": {
      "text/plain": [
       "MinMaxScaler(feature_range=(-1, 1))"
      ]
     },
     "execution_count": 8,
     "metadata": {},
     "output_type": "execute_result"
    }
   ],
   "source": [
    "Scaler.fit(df[['C1']])"
   ]
  },
  {
   "cell_type": "code",
   "execution_count": 9,
   "id": "206e9f03",
   "metadata": {},
   "outputs": [
    {
     "data": {
      "text/plain": [
       "array([[-1.        ],\n",
       "       [-0.57894737],\n",
       "       [-0.05263158],\n",
       "       [ 0.47368421],\n",
       "       [ 1.        ]])"
      ]
     },
     "execution_count": 9,
     "metadata": {},
     "output_type": "execute_result"
    }
   ],
   "source": [
    "Scaler.transform(df[[\"C1\"]])"
   ]
  },
  {
   "cell_type": "code",
   "execution_count": null,
   "id": "06186422",
   "metadata": {},
   "outputs": [],
   "source": []
  }
 ],
 "metadata": {
  "kernelspec": {
   "display_name": "Python 3 (ipykernel)",
   "language": "python",
   "name": "python3"
  },
  "language_info": {
   "codemirror_mode": {
    "name": "ipython",
    "version": 3
   },
   "file_extension": ".py",
   "mimetype": "text/x-python",
   "name": "python",
   "nbconvert_exporter": "python",
   "pygments_lexer": "ipython3",
   "version": "3.9.7"
  }
 },
 "nbformat": 4,
 "nbformat_minor": 5
}
