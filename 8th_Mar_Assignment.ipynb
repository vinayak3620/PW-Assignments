{
  "nbformat": 4,
  "nbformat_minor": 0,
  "metadata": {
    "colab": {
      "provenance": []
    },
    "kernelspec": {
      "name": "python3",
      "display_name": "Python 3"
    },
    "language_info": {
      "name": "python"
    }
  },
  "cells": [
    {
      "cell_type": "markdown",
      "source": [
        "**Q1**\n",
        "\n",
        "PDF is a probility function that tell about the probability of random variable X at a particular value from the possible outcomes."
      ],
      "metadata": {
        "id": "jfu_V17wNhir"
      }
    },
    {
      "cell_type": "markdown",
      "source": [
        "**Q2**\n",
        "\n",
        "Type of Probability Distribution:\n",
        "\n",
        "1. Bernaulli\n",
        "\n",
        "2. Binomial\n",
        "\n",
        "3. Poission\n",
        "\n",
        "4. Normal/Gaussion\n",
        "\n",
        "5. Uniform\n",
        "\n",
        "6. log normal\n"
      ],
      "metadata": {
        "id": "5vmhtehjN4H7"
      }
    },
    {
      "cell_type": "markdown",
      "source": [
        "**Q3**"
      ],
      "metadata": {
        "id": "Wi6WyOoyOg2U"
      }
    },
    {
      "cell_type": "code",
      "source": [
        "import math"
      ],
      "metadata": {
        "id": "PcRMZZ70O610"
      },
      "execution_count": 1,
      "outputs": []
    },
    {
      "cell_type": "code",
      "source": [
        "def Nomral_PDF_Calculator(mean,std,point):\n",
        "  pdf = (1/(std*math.sqrt(2*math.pi))) * math.e**((((point-mean)/std)**2)*(-0.5))\n",
        "  return pdf"
      ],
      "metadata": {
        "id": "2VBPgAw0OgRL"
      },
      "execution_count": 11,
      "outputs": []
    },
    {
      "cell_type": "code",
      "execution_count": 12,
      "metadata": {
        "colab": {
          "base_uri": "https://localhost:8080/"
        },
        "id": "S7A9qMBVNc4Q",
        "outputId": "d29964cf-1b2d-469c-f5b5-6d08fd26cf68"
      },
      "outputs": [
        {
          "output_type": "execute_result",
          "data": {
            "text/plain": [
              "0.013123162954935323"
            ]
          },
          "metadata": {},
          "execution_count": 12
        }
      ],
      "source": [
        "Nomral_PDF_Calculator(12,5,2.5)"
      ]
    },
    {
      "cell_type": "markdown",
      "source": [
        "**Q4**\n",
        "\n",
        "Properties of binomial distribution\n",
        "\n",
        "1. Discerte random variable\n",
        "\n",
        "2. Binary outcome\n",
        "\n",
        "3. Fixed number of independent trials\n",
        "\n",
        "4. Probability of success is same for all trials.\n"
      ],
      "metadata": {
        "id": "S4yGGVfxQdoM"
      }
    },
    {
      "cell_type": "markdown",
      "source": [
        "**Q5**"
      ],
      "metadata": {
        "id": "3oDEkJNVRSlC"
      }
    },
    {
      "cell_type": "code",
      "source": [
        "import matplotlib.pyplot as plt\n",
        "import numpy as np"
      ],
      "metadata": {
        "id": "KZtUSddYSwHB"
      },
      "execution_count": 27,
      "outputs": []
    },
    {
      "cell_type": "code",
      "source": [
        "random_data = np.random.binomial(1000,0.4,size=n)"
      ],
      "metadata": {
        "id": "DebwcPWLTP6Y"
      },
      "execution_count": 36,
      "outputs": []
    },
    {
      "cell_type": "code",
      "source": [
        "plt.hist(random_data, bins=20)"
      ],
      "metadata": {
        "colab": {
          "base_uri": "https://localhost:8080/",
          "height": 537
        },
        "id": "HrNTkG3MU11p",
        "outputId": "03bf807e-7be0-437c-bc7a-1c14cfaac7b1"
      },
      "execution_count": 39,
      "outputs": [
        {
          "output_type": "execute_result",
          "data": {
            "text/plain": [
              "(array([  2.,   1.,   2.,   9.,  16.,  33.,  82.,  81., 100., 132., 147.,\n",
              "        111.,  97.,  90.,  37.,  35.,  15.,   6.,   2.,   2.]),\n",
              " array([345. , 350.3, 355.6, 360.9, 366.2, 371.5, 376.8, 382.1, 387.4,\n",
              "        392.7, 398. , 403.3, 408.6, 413.9, 419.2, 424.5, 429.8, 435.1,\n",
              "        440.4, 445.7, 451. ]),\n",
              " <BarContainer object of 20 artists>)"
            ]
          },
          "metadata": {},
          "execution_count": 39
        },
        {
          "output_type": "display_data",
          "data": {
            "text/plain": [
              "<Figure size 640x480 with 1 Axes>"
            ],
            "image/png": "[encoded data removed]"
          },
          "metadata": {}
        }
      ]
    },
    {
      "cell_type": "markdown",
      "source": [
        "**Q6**"
      ],
      "metadata": {
        "id": "5yeB73gmVTwj"
      }
    },
    {
      "cell_type": "code",
      "source": [
        "def Poission_PDF_Calculator(mean,x):\n",
        "  pdf = ((math.e**(-mean)) * (mean**x)) / math.factorial(x)\n",
        "  return pdf"
      ],
      "metadata": {
        "id": "kcpJ0o9JVVTA"
      },
      "execution_count": 40,
      "outputs": []
    },
    {
      "cell_type": "code",
      "source": [
        "mean = 12\n",
        "x= 8\n",
        "cdf = 0\n",
        "for i in range(0,x+1):\n",
        "  pdf = Poission_PDF_Calculator(mean,i)\n",
        "  cdf = cdf+pdf\n",
        "\n",
        "print(cdf)"
      ],
      "metadata": {
        "colab": {
          "base_uri": "https://localhost:8080/"
        },
        "id": "Ae4J9_K1WRHw",
        "outputId": "00149698-835c-4314-b372-e352c9c14ffb"
      },
      "execution_count": 41,
      "outputs": [
        {
          "output_type": "stream",
          "name": "stdout",
          "text": [
            "0.155027781767463\n"
          ]
        }
      ]
    },
    {
      "cell_type": "markdown",
      "source": [
        "**Q7**\n",
        "\n",
        "1. Binomial is Done for fixed number of independent trial but poission is done for infinite number of trial in fixed time or space interval.\n",
        "\n",
        "2. Binomial has binary outcomes but poission outcomes are not fixed."
      ],
      "metadata": {
        "id": "jNDVJ7B6XD4Y"
      }
    },
    {
      "cell_type": "markdown",
      "source": [
        "**Q8**"
      ],
      "metadata": {
        "id": "vR8lKqMjXor3"
      }
    },
    {
      "cell_type": "code",
      "source": [
        "random_variables = np.random.poisson(5,1000)\n"
      ],
      "metadata": {
        "id": "fK9HJkkmXoKR"
      },
      "execution_count": 51,
      "outputs": []
    },
    {
      "cell_type": "code",
      "source": [
        "## Mean\n",
        "np.mean(random_variables)"
      ],
      "metadata": {
        "colab": {
          "base_uri": "https://localhost:8080/"
        },
        "id": "GiWS5-x3YbHo",
        "outputId": "4736a31b-186c-4398-9891-f0f74a0c8c7c"
      },
      "execution_count": 50,
      "outputs": [
        {
          "output_type": "execute_result",
          "data": {
            "text/plain": [
              "4.932"
            ]
          },
          "metadata": {},
          "execution_count": 50
        }
      ]
    },
    {
      "cell_type": "code",
      "source": [
        "## Variance\n",
        "np.std(random_variables)**2"
      ],
      "metadata": {
        "colab": {
          "base_uri": "https://localhost:8080/"
        },
        "id": "QJyzRvQ-Yeu_",
        "outputId": "b9079561-719a-4654-d58e-53861824e450"
      },
      "execution_count": 54,
      "outputs": [
        {
          "output_type": "execute_result",
          "data": {
            "text/plain": [
              "4.7812160000000015"
            ]
          },
          "metadata": {},
          "execution_count": 54
        }
      ]
    },
    {
      "cell_type": "markdown",
      "source": [
        "**Q9**\n",
        "\n",
        "In Binomial : Mean.P(Fail) = Variance\n",
        "\n",
        "  Mean = np & Variance = npq\n",
        "\n",
        "In Poission : Mean = Variance = Expected number of events to occur in fixed time interval."
      ],
      "metadata": {
        "id": "AweIEO_hYrRv"
      }
    },
    {
      "cell_type": "markdown",
      "source": [
        "**Q10**\n",
        "\n",
        "In normal distribution, least frequent data will occur on the both extreme end of the pdf plot\n",
        "\n",
        "as the freuquency is less so probability of coming that data is also less."
      ],
      "metadata": {
        "id": "TQdOWnjnZJ1R"
      }
    }
  ]
}