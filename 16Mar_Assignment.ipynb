{
 "cells": [
  {
   "cell_type": "markdown",
   "id": "e965d460",
   "metadata": {},
   "source": [
    "Q1. Overfitting is when the model perform well in the training dataset but perform poorly on testing dataset.\n",
    "    \n",
    "    Underfitting is when the model perform poorly in both training dataset and testing dataset.\n",
    "    \n",
    "    Consequence of both is that the model is not good for new data and cannot be used for future refrrence.\n",
    "    \n",
    "    To handle Overfitting:\n",
    "    1. Cross validation\n",
    "    2. regularization\n",
    "    \n",
    "    To handle Underfitting:\n",
    "    1. Get more data.\n",
    "    2. Increase the number of features.\n",
    "    3. Increase the complexity of the model."
   ]
  },
  {
   "cell_type": "markdown",
   "id": "601747fa",
   "metadata": {},
   "source": [
    "Q2. Overfitting can be reduced by:\n",
    "    1. Cross validation - where the training dataset is also split into train and validation dataset and when the \n",
    "        model is trained, before testing it is validated using validation dataset.\n",
    "        \n",
    "    2. Regularization - It is donew by adding a loss function."
   ]
  },
  {
   "cell_type": "markdown",
   "id": "1743ea9b",
   "metadata": {},
   "source": [
    "Q3. \n",
    "    Underfitting is when the model perform poorly in both training dataset and testing dataset.\n",
    "    \n",
    "    Cases:\n",
    "    1. where data is less.\n"
   ]
  },
  {
   "cell_type": "markdown",
   "id": "169b8cdc",
   "metadata": {},
   "source": [
    "Padha to do phele bhai vaise hi kuch nahi nsamjh aa raha aur aise question se moral down ho raha hai."
   ]
  }
 ],
 "metadata": {
  "kernelspec": {
   "display_name": "Python 3 (ipykernel)",
   "language": "python",
   "name": "python3"
  },
  "language_info": {
   "codemirror_mode": {
    "name": "ipython",
    "version": 3
   },
   "file_extension": ".py",
   "mimetype": "text/x-python",
   "name": "python",
   "nbconvert_exporter": "python",
   "pygments_lexer": "ipython3",
   "version": "3.9.7"
  }
 },
 "nbformat": 4,
 "nbformat_minor": 5
}
