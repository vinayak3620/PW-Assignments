{
 "cells": [
  {
   "cell_type": "markdown",
   "id": "a50e77ae-bfcd-41c1-a9e7-86d32abc9615",
   "metadata": {},
   "source": [
    "#### Q1.\n",
    "Statistics is the science of collecting, organising and analyzing the data."
   ]
  },
  {
   "cell_type": "markdown",
   "id": "acd5228d-a1f7-4094-8019-6c34113bce63",
   "metadata": {},
   "source": [
    "#### Q2\n",
    "Different type of statistics are:\n",
    "1. Descriptive statistics : It is used when want to organise and summarize the data.\n",
    "2. Inferential statistics : It is used when we want to conculde for the population data based on the sample data."
   ]
  },
  {
   "cell_type": "markdown",
   "id": "c4d2aeb2-2296-4d71-802f-3c1f4bd57860",
   "metadata": {},
   "source": [
    "#### Q3.\n",
    "Different type of data are:\n",
    "1. Quantitve data: or the numerical data\n",
    "    1. Discrete : Example - rating the candidates as 1,2,3,4,5.\n",
    "    2. Continous : Example - weights of the students in a particular class, where it can have any real value.\n",
    "\n",
    "2. Qualitive data : (Categorical Data)\n",
    "    1. Nominal : Data where ordering of data is not possible (Ex : List of Cities)\n",
    "    2. Ordinal : Data where ordering of data is possible but difference between them cannot be calculated (Ex: rating as Good, Okay, Bad)"
   ]
  },
  {
   "cell_type": "markdown",
   "id": "b995646b-26eb-4e98-a7af-2bcb074e1a65",
   "metadata": {},
   "source": [
    "#### Q4.\n",
    "a. Qualitative\n",
    "b. Qualitative\n",
    "c. Quantitative\n",
    "d. Quantitative"
   ]
  },
  {
   "cell_type": "markdown",
   "id": "2b690555-b61e-4c38-bebe-5ca3a679d37d",
   "metadata": {},
   "source": [
    "#### Q5.\n",
    "4 type of level of measurement:\n",
    "1. Nominal : Ordering / Ranking of data is not possible.\n",
    "    Ex : List of cities.\n",
    "\n",
    "2. Ordinal : Ordering / Raking of data is possible but the difference between datapoint cannot be calculated.\n",
    "    Ex : Rating candidates as Good, Okay, Bad.\n",
    "\n",
    "3. Interval : Ordering / Ranking of data is possible and also difference between datapoint can be calculated, but the ratio between dataposint does not have any meaning.\n",
    "    Ex : Temperature.\n",
    "    \n",
    "4. Ratio : Ordering / Ranking, difference can be calculated along with the ratio and true zero value can be defined.\n",
    "    Ex : Weights of people."
   ]
  },
  {
   "cell_type": "markdown",
   "id": "95e8d858-6a73-43a8-8b70-804371a6f3e6",
   "metadata": {},
   "source": [
    "#### Q6.\n",
    "Level of measurement are important so as to decide the stattistical method to use to summarize and analyse the data.\n",
    "For example : For nominal data, Only mode can be used."
   ]
  },
  {
   "cell_type": "markdown",
   "id": "c6fbb48b-5346-4430-8d6d-f5a9a530f9f7",
   "metadata": {},
   "source": [
    "#### Q7.\n",
    "1.  Nominal  :  Categorical data where ordering / ranking of datapoint is not possible \n",
    "\n",
    "2.  Ordinal : Categorical data where ordering / ranking of datapoint is possible "
   ]
  },
  {
   "cell_type": "markdown",
   "id": "8890559b-2830-44dc-8ff7-c923fb196517",
   "metadata": {},
   "source": [
    "#### Q8 --- Histogram"
   ]
  },
  {
   "cell_type": "markdown",
   "id": "622bf572-481d-4f15-a4b5-6dab26522600",
   "metadata": {},
   "source": [
    "##### Q9.\n",
    "1. Descriptive : To summarize and analyse the whole data and get some meaningful insights.\n",
    "2. Inferential : When we want to comnculde for the population data based on the small sample data."
   ]
  },
  {
   "cell_type": "markdown",
   "id": "51c09e9f-28d8-4504-a0df-b9922c4b7370",
   "metadata": {},
   "source": [
    "#### Q10.\n",
    "1. Measure of centrall tendency:\n",
    "    1. Mean  - Ratio of sum of datapoint to number of datapoint.\n",
    "    2. Median - middle datapoint when whole data is sorted.\n",
    "    3. Mode - most frequently occuring datapoint.\n",
    "    \n",
    "2. Meassure of Variability:\n",
    "    1. Variance - It helps to determine the degree to which each point diffrs from the mean.\n",
    "    2. Std. Deviation - It helps to determine the spread of the data, how well the data is spread."
   ]
  }
 ],
 "metadata": {
  "kernelspec": {
   "display_name": "Python 3 (ipykernel)",
   "language": "python",
   "name": "python3"
  },
  "language_info": {
   "codemirror_mode": {
    "name": "ipython",
    "version": 3
   },
   "file_extension": ".py",
   "mimetype": "text/x-python",
   "name": "python",
   "nbconvert_exporter": "python",
   "pygments_lexer": "ipython3",
   "version": "3.10.8"
  }
 },
 "nbformat": 4,
 "nbformat_minor": 5
}
